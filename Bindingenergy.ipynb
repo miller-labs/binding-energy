{
  "metadata": {
    "kernelspec": {
      "name": "python",
      "display_name": "Python (Pyodide)",
      "language": "python"
    },
    "language_info": {
      "codemirror_mode": {
        "name": "python",
        "version": 3
      },
      "file_extension": ".py",
      "mimetype": "text/x-python",
      "name": "python",
      "nbconvert_exporter": "python",
      "pygments_lexer": "ipython3",
      "version": "3.8"
    }
  },
  "nbformat_minor": 4,
  "nbformat": 4,
  "cells": [
    {
      "cell_type": "markdown",
      "source": "A tool for calculating the total binding energy of a system of objects.",
      "metadata": {}
    },
    {
      "cell_type": "markdown",
      "source": "In this notebook, I will demonstrate how I developed a solution to calculate the binding energy of 3 objects for a given geometry.\n\nThe solution involved:\n\n- Reading input data from a text file\n- Checking that our input contains a resonable number of items\n- Calculating binding energies for each pairwise interaction\n- Summing up the individual binding energies to calculate the total binding energy of the system\n- Outputting the results with appropriate messages and error handling\n\nI broke the solution down into separate stages and created a function for each stage. \n\nThe reason I did it this way was to improve: \n\n- Code readability\n- Modularity\n- Maintainability\n- Reusability \n\nBy improving readability by using functions for each stage, the code becomes easier to maintain. It also allows for reusability of functions in instances where the code might need to be modified for a different use case. It also means that the code is easier to test and debug.",
      "metadata": {}
    },
    {
      "cell_type": "code",
      "source": "# Date created: 04/04/2024\n# Date modified: 16/04/2024\n# Created by: Joel Miller\n# This is a project to calculate the binding energy of \"n\" number of objects for a given geometry.\nimport math\nimport sys\n",
      "metadata": {
        "trusted": true
      },
      "outputs": [],
      "execution_count": 30
    },
    {
      "cell_type": "code",
      "source": "# Stage 1\n\n# Define constants\nsigma = 3.41e-10  # in meters\nepsilon = 1.65e-21  # in joules\n\n# Example case\nr_example = 6.82e-10  # in metres\nu_example = -1.0e-22  # in Joules\n",
      "metadata": {
        "trusted": true
      },
      "outputs": [],
      "execution_count": 31
    },
    {
      "cell_type": "markdown",
      "source": "In stage 1 we are simply defining constants; therfore, it is not neccessary to create any functions. ",
      "metadata": {}
    },
    {
      "cell_type": "code",
      "source": "# Stage 2 - Open file containing distances and convert to list of floats\n\ndef txt_2_list(txt_file):\n    f = open(txt_file, 'r')\n    f_list_str = f.readlines()\n    f.close()\n    n_distances = len(f_list_str)\n    r_list = []\n    for i in range(n_distances):\n        r_list.append(float(f_list_str[i]))\n    return r_list\n    ",
      "metadata": {
        "trusted": true
      },
      "outputs": [],
      "execution_count": 32
    },
    {
      "cell_type": "markdown",
      "source": "An alternative approach to stage 2 would be to manually create a list containing each of the 3 distances. \nIf you will only be using this code once, then this approach would be acceptable; however, if you intend to use the code with a different set of distances, then a more universal approach, such as the one above, is more suitable and will help to improve efficiency when handling larger volumes of data.  \n\nFrom this list, we could create a class to represent pairings between the objects and create a method for calculating the binding energy between specific pairs of objects. \n\nIt is worth noting that at some point in the future we may end up dealing with objects and their positions((x,y) coordinates), rather than the pairwise distances. In this instance, we could create a class of objects with attributes relating to position. We could then create a method for calculating the distances between each of the pairs.\n\nIn this stage we open the file containing the distances between each of the 3 pairs of objects. We then read the lines of the file and \n\n",
      "metadata": {}
    },
    {
      "cell_type": "code",
      "source": "# Stage 3 - Create a function to calculate the binding energy of a single object pairing\ndef binding_energy_calculator(r):\n    return 4 * epsilon * ((sigma / r) ** 12 - (sigma / r) ** 6)\n    ",
      "metadata": {
        "trusted": true
      },
      "outputs": [],
      "execution_count": 34
    },
    {
      "cell_type": "markdown",
      "source": "In stage 4 we will check that our input list contains a reasonable number of elements by calculating the number of objects from the number of pairwise interactions. \n\nWe know that the number of pairings for $n$ objects is given by:  \n\n$$n_{pairings} = \\frac{n(n-1)}{2}$$\n\nUsing this, we can rearrange for $n$, which gives the quadratic equation: \n\n$$n^2 − n − 2n_{pairings} = 0,$$ \n\nwhich can be solved using the quadratic formula.\n\nThis gives $a = 1,$  $b = -1,$ $c = -2n_{pairings}$.\n\n$$n = \\frac {-b \\pm \\sqrt{b^2 -4ac}} {2a},$$\n\n\nBy checking that the discriminant is an integer we can confirm that our list contains a reasonable number of elements. \n\nAn additional bonus is that we can calculate the number of objects that make up our pairings; this is potentially useful to know for future work.\n\n\nIf we are given a list with an incorrect number of separations, then our calculation for the total binding energy\nwill be incorrect. For instance, 10 objects provide 27 pairings. If we have a list containing 28 pairings,\nthen we end up with a non-integer number of objects, which is impossible. We can use this information to include a\ncheck within our code, that tells us if we have a reasonable number of elements in our list. Of course, it's possible\nthat we randomly end up with a list containing a reasonable number of elements; however, this check minimises the\nchance of the code outputting the incorrect result.\n",
      "metadata": {}
    },
    {
      "cell_type": "code",
      "source": "# Stage 4 - Check that the list contains a reasonable number of elements\n\ndef calc_n_objects(distances):  # Function to calculate the number of objects from a list of separations\n    n_pairings = len(distances)  # Find n_pairings from distances list\n    a = 1\n    b = -1\n    c = -2 * n_pairings\n\n    discriminant = (b ** 2) - (4 * a * c)  # calculate the discriminant from the quadratic equation\n\n    # Check to see if the discriminant is a perfect square, if not, then we have a problem with the list of distances\n    if math.sqrt(discriminant) % 1 == 0:\n        print('The discriminant is a perfect square and we can proceed in calculating the number of objects from our '\n              'distances list.')\n    else:\n        sys.exit('The discriminant is not a perfect square and the distances list is missing data, please '\n                 'check you are using the correct data set!')\n\n\n    # Calculate the roots to find the number of objects \n\n    root_1 = (-b + math.sqrt(discriminant)) / 2  # This is the root that gives the original number of objects that make up the pairings\n    # root_2 = (-b - math.sqrt(discriminant)) / 2  # We can ignore root_2 since it will always be negative\n    if n_pairings <= 1:\n        print('Given the number of separations in your list, we can determine that there are', int(root_1),\n              'objects that make up your', n_pairings, 'pairing.')\n    else:\n        print('Given the number of separations in your list, we can determine that there are', int(root_1),\n              'objects that make up your', n_pairings, 'pairings.')\n\n    return root_1 ",
      "metadata": {
        "trusted": true
      },
      "outputs": [],
      "execution_count": 37
    },
    {
      "cell_type": "markdown",
      "source": "",
      "metadata": {}
    },
    {
      "cell_type": "code",
      "source": "# Stage 7 - Combine functions to create one\ndef binding_energy_tool(txt_file):\n    distances_list = txt_2_list(txt_file)\n    calc_n_objects(distances_list)\n    return total_binding_energy_calculator(distances_list)\n\n\ntotal_bindin_energy = binding_energy_tool('distances.txt')",
      "metadata": {
        "trusted": true
      },
      "outputs": [
        {
          "name": "stdout",
          "text": "The discriminant is a perfect square and we can proceed in calculating the number of objects from our distances list.\nGiven the number of separations in your list, we can determine that there are 3 objects that make up your 3 pairings.\nThe total binding energy of the 3 pairings is 3.82e-18 J.\nthe difference between the example and the calculated result is, 1.5136718750000032e-24 Joules\nThe example conditions continue to give the correct results; therefore, the code is working and you can trust these results.\n",
          "output_type": "stream"
        }
      ],
      "execution_count": 38
    }
  ]
}