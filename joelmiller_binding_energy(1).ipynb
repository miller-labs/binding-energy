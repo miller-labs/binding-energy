{
  "metadata": {
    "kernelspec": {
      "name": "python",
      "display_name": "Python (Pyodide)",
      "language": "python"
    },
    "language_info": {
      "codemirror_mode": {
        "name": "python",
        "version": 3
      },
      "file_extension": ".py",
      "mimetype": "text/x-python",
      "name": "python",
      "nbconvert_exporter": "python",
      "pygments_lexer": "ipython3",
      "version": "3.8"
    }
  },
  "nbformat_minor": 4,
  "nbformat": 4,
  "cells": [
    {
      "cell_type": "markdown",
      "source": "## A tool for calculating the binding energy of a system of objects",
      "metadata": {}
    },
    {
      "cell_type": "markdown",
      "source": "In this notebook, I will demonstrate how I developed a solution to calculate the binding energy of 3 objects for a given geometry.\n\nThe solution involved:\n\n- Reading input data from a text file\n- Checking that the input contains a reasonable number of items\n- Calculating binding energies for individual pairwise interactions\n- Summing up the individual binding energies to calculate the total binding energy of the system\n- Outputting the results with appropriate messages and some error handling\n\nI broke the solution down into separate stages and created a function for each stage. \n\nThe reason I did it this way was to improve: \n\n- Code readability\n- Modularity\n- Maintainability\n- Reusability \n\nBy improving readability by using functions for each stage, the code becomes easier to maintain. It also allows for reusability of functions in instances where the code might need to be modified for a different use case. It also means that the code is easier to test and debug.",
      "metadata": {}
    },
    {
      "cell_type": "code",
      "source": "# Date created: 04/04/2024\n# Date modified: 16/04/2024\n# Created by: Joel Miller\n# This is a project to calculate the binding energy of \"n\" number of objects for a given geometry.\nimport math\nimport sys\n",
      "metadata": {
        "trusted": true
      },
      "outputs": [],
      "execution_count": 1
    },
    {
      "cell_type": "markdown",
      "source": "In stage 1 we are simply defining constants; therfore, it is not neccessary to create any functions. ",
      "metadata": {}
    },
    {
      "cell_type": "code",
      "source": "# Stage 1\n\n# Define constants\nsigma = 3.41e-10  # in meters\nepsilon = 1.65e-21  # in joules\n\n# Example case\nr_example = 6.82e-10  # in metres\nu_example = -1.0e-22  # in Joules\n",
      "metadata": {
        "trusted": true
      },
      "outputs": [],
      "execution_count": 2
    },
    {
      "cell_type": "code",
      "source": "# Stage 2 - Open file containing distances and convert to list of floats\n\ndef txt_2_list(txt_file):\n    f = open(txt_file, 'r')\n    f_list_str = f.readlines()\n    f.close()\n    n_distances = len(f_list_str)\n    r_list = []\n    for i in range(n_distances):\n        r_list.append(float(f_list_str[i]))\n    return r_list\n    ",
      "metadata": {
        "trusted": true
      },
      "outputs": [],
      "execution_count": 3
    },
    {
      "cell_type": "markdown",
      "source": "An alternative approach to stage 2 would be to manually create a list containing each of the 3 distances. \nIf you will only be using this code once, then this approach would be acceptable; however, if you intend to use the code with a different set of distances, then a more universal approach, such as the one above, is more suitable and will help to improve efficiency when handling larger volumes of data.  \n\nFrom this list, we could create a class to represent pairings between the objects and create a method for calculating the binding energy between specific pairs of objects. \n\nIt is worth noting that at some point in the future we may end up dealing with objects and their positions((x,y) coordinates), rather than the pairwise distances. In this instance, we could create a class of objects with attributes relating to position. We could then create a method for calculating the distances between each of the pairs.\n\nIn this stage we open the file containing the distances between each of the 3 pairs of objects. We then read the lines of the file and \n\n",
      "metadata": {}
    },
    {
      "cell_type": "code",
      "source": "# Stage 3 - Create a function to calculate the binding energy of a single object pairing\ndef binding_energy_calculator(r):\n    return 4 * epsilon * ((sigma / r) ** 12 - (sigma / r) ** 6)\n    ",
      "metadata": {
        "trusted": true
      },
      "outputs": [],
      "execution_count": 4
    },
    {
      "cell_type": "markdown",
      "source": "In stage 4 we will check that our input list contains a reasonable number of elements by calculating the number of objects from the number of pairwise interactions. \n\nWe know that the number of pairings for $n$ objects is given by:  \n\n$$n_{pairings} = \\frac{n(n-1)}{2}$$\n\nUsing this, we can rearrange for $n$, which gives the quadratic equation: \n\n$$n^2 − n − 2n_{pairings} = 0,$$ \n\nwhich can be solved using the quadratic formula.\n\nThis gives $a = 1,$  $b = -1,$ $c = -2n_{pairings}$.\n\n$$n = \\frac {-b \\pm \\sqrt{b^2 -4ac}} {2a},$$\n\n\nBy checking that the discriminant is an integer we can confirm that our list contains a reasonable number of elements. \n\nAn additional bonus is that we can calculate the number of objects that make up our pairings; this is potentially useful to know for future work.\n\n\nIf we are given a list with an incorrect number of separations, then our calculation for the total binding energy\nwill be incorrect. For instance, 10 objects provide 27 pairings. If we have a list containing 28 pairings,\nthen we end up with a non-integer number of objects, which is impossible. We can use this information to include a\ncheck within our code, that tells us if we have a reasonable number of elements in our list. Of course, it's possible\nthat we randomly end up with a list containing a reasonable number of elements; however, this check minimises the\nchance of the code outputting the incorrect result.\n",
      "metadata": {}
    },
    {
      "cell_type": "code",
      "source": "# Stage 4 - Check that the list contains a reasonable number of elements\n\ndef calc_n_objects(distances):  # Function to calculate the number of objects from a list of separations\n    n_pairings = len(distances)  # Find n_pairings from distances list\n    a = 1\n    b = -1\n    c = -2 * n_pairings\n\n    discriminant = (b ** 2) - (4 * a * c)  # calculate the discriminant from the quadratic equation\n\n    # Check to see if the discriminant is a perfect square, if not, then we have a problem with the list of distances\n    if math.sqrt(discriminant) % 1 == 0:\n        print('The discriminant is a perfect square and we can proceed in calculating the number of objects from our '\n              'distances list.')\n    else:\n        sys.exit('The discriminant is not a perfect square and the distances list is missing data, please '\n                 'check you are using the correct data set!')\n\n\n    # Calculate the roots to find the number of objects \n\n    root_1 = (-b + math.sqrt(discriminant)) / 2  # This is the root that gives the original number of objects that make up the pairings\n    # root_2 = (-b - math.sqrt(discriminant)) / 2  # We can ignore root_2 since it will always be negative\n    if n_pairings <= 1:\n        print('Given the number of separations in your list, we can determine that there are', int(root_1),\n              'objects that make up your', n_pairings, 'pairing.')\n    else:\n        print('Given the number of separations in your list, we can determine that there are', int(root_1),\n              'objects that make up your', n_pairings, 'pairings.')\n\n    return root_1 ",
      "metadata": {
        "trusted": true
      },
      "outputs": [],
      "execution_count": 5
    },
    {
      "cell_type": "code",
      "source": "# Stage 5 - Calculate the binding energies\n\ndef total_binding_energy_calculator(\n        distances):  # Function to calculate total binding energy from list of object separations\n    binding_energies_list = []  # Initialize empty list to store calculate individual pairwise binding energies\n\n    for r in distances:\n        binding_energy = binding_energy_calculator(r)  # calculate individual binding energies using custom function\n        binding_energies_list.append(binding_energy)\n\n    total_binding_energy = sum(binding_energies_list)\n\n    n_pairings = len(distances)\n    if n_pairings <= 1:\n        # print('There is', n_pairings, 'separation in this list.')\n        print('The total binding energy of the', n_pairings, 'pairing is', format(total_binding_energy, '.3g'), 'J.')\n    else:\n        # print('There are', n_pairings, 'separations in this list.')\n        print('The total binding energy of the', n_pairings, 'pairings is', format(total_binding_energy, '.3g'), 'J.')\n\n    difference = abs(u_example - binding_energy_calculator(r_example))  # Compare known energy at r_example to calculated energy\n    # print('the difference between the example and the calculated result is,', difference, 'Joules')\n\n    if difference < 1e-23:  # If the difference is less than the tolerance, then consider the result to be correct\n        print('The example conditions continue to give the correct results; therefore, the code is working '\n              'and you can trust these results.')\n    else:\n        print('The code is broken and these results can\\'t be trusted, please consult the developers')\n\n    return total_binding_energy\n",
      "metadata": {
        "trusted": true
      },
      "outputs": [],
      "execution_count": 6
    },
    {
      "cell_type": "code",
      "source": "# Stage 6 - Combine functions to create one\ndef binding_energy_tool(txt_file):\n    distances_list = txt_2_list(txt_file)\n    calc_n_objects(distances_list)\n    return total_binding_energy_calculator(distances_list)\n\n\ntotal_bindin_energy = binding_energy_tool('distances.txt')",
      "metadata": {
        "trusted": true
      },
      "outputs": [
        {
          "name": "stdout",
          "text": "The discriminant is a perfect square and we can proceed in calculating the number of objects from our distances list.\nGiven the number of separations in your list, we can determine that there are 3 objects that make up your 3 pairings.\nThe total binding energy of the 3 pairings is 3.82e-18 J.\nThe example conditions continue to give the correct results; therefore, the code is working and you can trust these results.\n",
          "output_type": "stream"
        }
      ],
      "execution_count": 7
    },
    {
      "cell_type": "markdown",
      "source": "# Considerations: \n\n### Who should be involved in developing the final solution?\nThe development of the final solution could involve: \n\n- Various stakeholders, depending on their technical expertise or understanding\n- Experts (such as physicists or scientists familiar with the problem)\n- End users or stakeholders who will use the solution\n- Other software engineers who are helping to develop the solution\n\nCollaboration between different roles ensures that the solution meets both technical requirements and user needs.",
      "metadata": {}
    },
    {
      "cell_type": "markdown",
      "source": "### How has what you don’t know about the problem impacted your solution?\n\nWhat don't I know:\n\n- Lacking information about the input data. Is this just a small sample of data, or is it the full set?\n- If this isn't the full set, then what format will the full set take on? .csv, .txt etc\n- Is this going to be part of a larger project?\n- Will the problem involve positions of objects at some point?\n- Not knowing how the output will be used \n\nHow has this impacted my solution?\n- These unknowns have led me to futureproof my solution. \n- For example, reading in a list of distances, as opposed to including the distances directly in the code. This means that the code will work with any number of pairs of objects.\n- Not knowing how the data will be used has meant that I've explicitly stated the information that is being calculated. It means that anyone running the code can easily see what the code is doing without necessarily having to look through the code and read comments. However, this might not be necessary for any future/final projects.",
      "metadata": {}
    },
    {
      "cell_type": "markdown",
      "source": "### How might you do it differently in a team or production context?\n\nA team or production context could involve:\n- Code reviews to ensure that quality assurance is maintained. Also so other co-developers understand the code, and to help identify bugs\n- Team members developing a function each. This could enhance modularity and minimise variable-naming errors\n- Setting goals so the whole team has an expectation of where the project should be up to. \n- Regular communication to ensure decisions are informed, perhaps with the use of GitHub.\n\n\nAdditionally, considerations such as error handling, logging, testing, and documentation could be used to ensure the reliability and maintainability of the code.",
      "metadata": {}
    },
    {
      "cell_type": "markdown",
      "source": "### What things might you need to consider if this was the start of a larger project?\n\n- Scalability: Will this code be used with more than 3 objects?\n- Modularity: Having modular code makes it easier to structure the code and to help with future enhancements. \n- Testing: For a larger project, testing is important to ensure the code functions correctly. Eg, unit tests\n- Documentation: Ensuring that the code is easy to use and understand will significantly aid with larger projects\n- Version control: To help with effective collaboration and to manage changes to the code. E.g, using git/GitHub \n",
      "metadata": {}
    }
  ]
}